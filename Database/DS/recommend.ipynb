{
 "cells": [
  {
   "cell_type": "code",
   "execution_count": 2,
   "metadata": {},
   "outputs": [],
   "source": [
    "import pandas as pd\n",
    "import numpy as np\n",
    "import matplotlib.pyplot as plt\n",
    "import os\n",
    "import sys\n",
    "import torch"
   ]
  },
  {
   "cell_type": "code",
   "execution_count": 120,
   "metadata": {},
   "outputs": [
    {
     "data": {
      "text/html": [
       "<div>\n",
       "<style scoped>\n",
       "    .dataframe tbody tr th:only-of-type {\n",
       "        vertical-align: middle;\n",
       "    }\n",
       "\n",
       "    .dataframe tbody tr th {\n",
       "        vertical-align: top;\n",
       "    }\n",
       "\n",
       "    .dataframe thead th {\n",
       "        text-align: right;\n",
       "    }\n",
       "</style>\n",
       "<table border=\"1\" class=\"dataframe\">\n",
       "  <thead>\n",
       "    <tr style=\"text-align: right;\">\n",
       "      <th></th>\n",
       "      <th>Name</th>\n",
       "      <th>Price</th>\n",
       "      <th>Description</th>\n",
       "      <th>Type</th>\n",
       "      <th>Brand</th>\n",
       "    </tr>\n",
       "  </thead>\n",
       "  <tbody>\n",
       "    <tr>\n",
       "      <th>1</th>\n",
       "      <td>Predator Match Fingersave Goalkeeper Gloves</td>\n",
       "      <td>$60</td>\n",
       "      <td>EXCEL IN TRAINING AND MATCHES IN THESE REINFOR...</td>\n",
       "      <td>Gloves</td>\n",
       "      <td>adidas</td>\n",
       "    </tr>\n",
       "    <tr>\n",
       "      <th>2</th>\n",
       "      <td>Predator Pro Goalkeeper Gloves Kids</td>\n",
       "      <td>$75</td>\n",
       "      <td>CUSHIONED SOCCER GLOVES FOR CONFIDENT PERFORMA...</td>\n",
       "      <td>Gloves</td>\n",
       "      <td>adidas</td>\n",
       "    </tr>\n",
       "    <tr>\n",
       "      <th>3</th>\n",
       "      <td>Copa Pro Goalkeeper Gloves Kids</td>\n",
       "      <td>$75</td>\n",
       "      <td>GRIPPY SOCCER GOALIE GLOVES WITH A CLASSIC FIT...</td>\n",
       "      <td>Gloves</td>\n",
       "      <td>adidas</td>\n",
       "    </tr>\n",
       "    <tr>\n",
       "      <th>4</th>\n",
       "      <td>Predator Match Fingersave Goalkeeper Gloves</td>\n",
       "      <td>$60</td>\n",
       "      <td>EXCEL IN TRAINING AND MATCHES IN THESE REINFOR...</td>\n",
       "      <td>Gloves</td>\n",
       "      <td>adidas</td>\n",
       "    </tr>\n",
       "    <tr>\n",
       "      <th>5</th>\n",
       "      <td>Copa Club Goalkeeper Gloves</td>\n",
       "      <td>$25</td>\n",
       "      <td>FOOTBALL GLOVES WITH A POSITIVE FINGER CUT AND...</td>\n",
       "      <td>Gloves</td>\n",
       "      <td>adidas</td>\n",
       "    </tr>\n",
       "  </tbody>\n",
       "</table>\n",
       "</div>"
      ],
      "text/plain": [
       "                                          Name Price  \\\n",
       "1  Predator Match Fingersave Goalkeeper Gloves  $60    \n",
       "2          Predator Pro Goalkeeper Gloves Kids  $75    \n",
       "3              Copa Pro Goalkeeper Gloves Kids  $75    \n",
       "4  Predator Match Fingersave Goalkeeper Gloves  $60    \n",
       "5                  Copa Club Goalkeeper Gloves  $25    \n",
       "\n",
       "                                         Description    Type   Brand  \n",
       "1  EXCEL IN TRAINING AND MATCHES IN THESE REINFOR...  Gloves  adidas  \n",
       "2  CUSHIONED SOCCER GLOVES FOR CONFIDENT PERFORMA...  Gloves  adidas  \n",
       "3  GRIPPY SOCCER GOALIE GLOVES WITH A CLASSIC FIT...  Gloves  adidas  \n",
       "4  EXCEL IN TRAINING AND MATCHES IN THESE REINFOR...  Gloves  adidas  \n",
       "5  FOOTBALL GLOVES WITH A POSITIVE FINGER CUT AND...  Gloves  adidas  "
      ]
     },
     "execution_count": 120,
     "metadata": {},
     "output_type": "execute_result"
    }
   ],
   "source": [
    "df = pd.read_csv('../data1.csv', index_col=0)\n",
    "df.rename(columns={'Unnamed: 5': 'Type'}, inplace=True)\n",
    "df.drop(columns=['Image'], inplace=True)\n",
    "df.head()"
   ]
  },
  {
   "cell_type": "code",
   "execution_count": 121,
   "metadata": {},
   "outputs": [
    {
     "data": {
      "text/plain": [
       "(10, 5)"
      ]
     },
     "execution_count": 121,
     "metadata": {},
     "output_type": "execute_result"
    }
   ],
   "source": [
    "# Gloves \n",
    "df[df['Type'] == 'Gloves'].shape"
   ]
  },
  {
   "cell_type": "code",
   "execution_count": 4,
   "metadata": {},
   "outputs": [
    {
     "name": "stdout",
     "output_type": "stream",
     "text": [
      "Note: you may need to restart the kernel to use updated packages.\n"
     ]
    },
    {
     "name": "stderr",
     "output_type": "stream",
     "text": [
      "c:\\Users\\Asus\\AppData\\Local\\Programs\\Python\\Python312\\python.exe: No module named pip\n"
     ]
    }
   ],
   "source": [
    "%pip install -U sentence-transformers"
   ]
  },
  {
   "cell_type": "code",
   "execution_count": 5,
   "metadata": {},
   "outputs": [],
   "source": [
    "from sentence_transformers import SentenceTransformer"
   ]
  },
  {
   "cell_type": "code",
   "execution_count": 122,
   "metadata": {},
   "outputs": [
    {
     "name": "stderr",
     "output_type": "stream",
     "text": [
      "c:\\Users\\Asus\\AppData\\Local\\Programs\\Python\\Python312\\Lib\\site-packages\\huggingface_hub\\file_download.py:1132: FutureWarning: `resume_download` is deprecated and will be removed in version 1.0.0. Downloads always resume when possible. If you want to force a new download, use `force_download=True`.\n",
      "  warnings.warn(\n"
     ]
    },
    {
     "name": "stdout",
     "output_type": "stream",
     "text": [
      "['c:\\\\Ch-a-bi-t-t-n-g-\\\\Database\\\\DS', 'c:\\\\Users\\\\Asus\\\\AppData\\\\Local\\\\Programs\\\\Python\\\\Python312\\\\python312.zip', 'c:\\\\Users\\\\Asus\\\\AppData\\\\Local\\\\Programs\\\\Python\\\\Python312\\\\DLLs', 'c:\\\\Users\\\\Asus\\\\AppData\\\\Local\\\\Programs\\\\Python\\\\Python312\\\\Lib', 'c:\\\\Users\\\\Asus\\\\AppData\\\\Local\\\\Programs\\\\Python\\\\Python312', '', 'C:\\\\Users\\\\Asus\\\\AppData\\\\Roaming\\\\Python\\\\Python312\\\\site-packages', 'C:\\\\Users\\\\Asus\\\\AppData\\\\Roaming\\\\Python\\\\Python312\\\\site-packages\\\\win32', 'C:\\\\Users\\\\Asus\\\\AppData\\\\Roaming\\\\Python\\\\Python312\\\\site-packages\\\\win32\\\\lib', 'C:\\\\Users\\\\Asus\\\\AppData\\\\Roaming\\\\Python\\\\Python312\\\\site-packages\\\\Pythonwin', 'c:\\\\Users\\\\Asus\\\\AppData\\\\Local\\\\Programs\\\\Python\\\\Python312\\\\Lib\\\\site-packages']\n",
      "[[-5.75388372e-02  5.29783145e-02 -5.99432103e-02  5.49276546e-03\n",
      "   1.52214378e-01  6.68999320e-03  9.29836258e-02  2.59430874e-02\n",
      "   5.26905395e-02  7.19871446e-02 -8.42761656e-04  1.66832935e-02\n",
      "  -5.15476465e-02  9.73255560e-02  4.44729663e-02  9.92973242e-03\n",
      "  -6.40179664e-02 -3.07773240e-03  3.11188586e-02  9.12996754e-02\n",
      "   2.33554728e-02 -3.89926210e-02  5.34761883e-03 -1.40791563e-02\n",
      "  -1.36973277e-01  1.00253373e-02  1.15729747e-02 -1.26702618e-02\n",
      "   4.79184687e-02 -2.24599950e-02 -9.99534801e-02 -4.39504869e-02\n",
      "   1.08033679e-02  1.33412601e-02 -4.37954031e-02 -2.59203762e-02\n",
      "  -3.72306444e-04  6.29539276e-03 -4.60950024e-02  1.03187874e-01\n",
      "   4.21889946e-02 -1.02070989e-02 -7.09788781e-03  4.48305579e-03\n",
      "   1.79953612e-02  3.39152813e-02  1.69218481e-02  6.89351410e-02\n",
      "  -2.66131517e-02 -3.35078686e-02  9.26152244e-03 -9.56871547e-03\n",
      "   4.07942533e-02 -6.27429336e-02  1.05546154e-01  2.63011456e-02\n",
      "  -6.44928822e-03 -6.48455461e-03 -1.12319328e-02  2.56503560e-02\n",
      "   1.29784420e-01  2.81504579e-02 -1.02700792e-01 -7.32489070e-03\n",
      "  -6.22112155e-02 -5.47547229e-02  2.71625607e-03  6.09601922e-02\n",
      "   3.03661395e-02 -1.04308166e-02 -4.90485467e-02 -1.47941401e-02\n",
      "  -4.16922197e-02  6.20997604e-03  3.17168199e-02  3.97582762e-02\n",
      "  -6.61908537e-02 -7.39426017e-02 -3.64541486e-02  3.69337350e-02\n",
      "  -6.17465079e-02 -7.62725249e-02  2.86227204e-02  1.62597410e-02\n",
      "   3.52356397e-02  9.60721460e-04  1.61038544e-02 -7.09982812e-02\n",
      "   6.60240091e-03 -2.64801737e-02 -3.20856273e-02 -3.14671621e-02\n",
      "  -6.53979508e-03  3.43669094e-02 -4.55602184e-02  1.94548629e-02\n",
      "  -9.87175293e-03  1.16570955e-02 -6.60349056e-02  3.03874947e-02\n",
      "   8.08130950e-03 -4.30884212e-02 -5.95946796e-02  1.30843502e-02\n",
      "   4.18770649e-02  7.79242069e-03 -5.06850556e-02 -5.84565401e-02\n",
      "   5.05596474e-02  7.38417506e-02 -3.10476478e-02  4.03846577e-02\n",
      "  -8.27024505e-02  5.39550819e-02 -7.67113790e-02 -5.16399108e-02\n",
      "  -9.08818096e-02  7.63985217e-02  4.97843474e-02 -7.46269291e-03\n",
      "  -2.28375681e-02  5.77276871e-02 -8.09199736e-03 -4.58387770e-02\n",
      "   5.21178879e-02 -2.12886860e-03 -1.87242981e-02  3.64835059e-33\n",
      "  -1.42318159e-02 -1.37054976e-02 -9.61791947e-02 -5.27345724e-02\n",
      "  -8.54403824e-02 -9.55803972e-03 -7.22231111e-03 -7.47217089e-02\n",
      "  -3.62822860e-02 -3.66180018e-03  1.14071788e-02  5.79818003e-02\n",
      "   4.99005988e-03  8.52487609e-02  1.38816148e-01  1.51148485e-02\n",
      "  -3.21434103e-02  2.68579628e-02 -6.32737589e-04  6.00858182e-02\n",
      "   5.43865049e-03  8.16460792e-03  5.16681373e-02  2.29873843e-02\n",
      "   8.10172856e-02  2.76169162e-02  3.57702188e-03 -1.43039599e-02\n",
      "   5.33812456e-02 -1.48007823e-02 -2.31688693e-02 -4.34028730e-02\n",
      "  -3.74372937e-02  5.07848002e-02 -1.53836375e-02  1.08991027e-01\n",
      "   3.32106240e-02 -5.78239076e-02 -1.29307657e-02 -7.21300766e-02\n",
      "   2.43559610e-02  1.56635959e-02 -2.84667686e-02 -4.76625822e-02\n",
      "  -4.29807603e-02 -2.53685545e-02  2.78908797e-02  2.92834155e-02\n",
      "  -1.87902227e-02 -1.01701766e-01  1.91072989e-02 -9.53160040e-03\n",
      "   1.44205540e-02 -3.34256701e-02 -5.63863441e-02 -1.61364283e-02\n",
      "   2.33912561e-02  5.38440328e-03 -6.00925758e-02 -7.22379237e-02\n",
      "   2.72401888e-02 -1.36451423e-01  9.34555847e-03  4.74924780e-02\n",
      "   6.20778240e-02  4.47542220e-02  2.37701163e-02  3.43045332e-02\n",
      "   4.98752519e-02  2.25555841e-02 -4.46543582e-02  5.48732989e-02\n",
      "   1.73831861e-02  7.04486715e-03  7.41261896e-03 -7.06178695e-02\n",
      "   5.48534729e-02  1.13094486e-01  1.36010852e-02  1.56740062e-02\n",
      "   4.52853143e-02  4.71807718e-02  2.55191680e-02  1.80928987e-02\n",
      "  -7.67353028e-02 -8.55820347e-03  3.64943594e-02  2.63303146e-03\n",
      "   3.44487466e-02 -1.04306499e-02 -4.31663506e-02 -1.45604685e-02\n",
      "  -7.99993426e-03  3.89772020e-02 -7.22032562e-02 -3.71229638e-33\n",
      "   2.84935534e-02 -5.71839660e-02  4.50462773e-02  2.97097885e-03\n",
      "  -2.19215471e-02  4.59926352e-02 -1.27127143e-02  2.14102902e-02\n",
      "  -7.04315156e-02 -9.23346654e-02  1.64654963e-02 -7.19810352e-02\n",
      "  -6.36937097e-02 -2.85125766e-02 -2.36562192e-02 -7.51643106e-02\n",
      "  -4.88514863e-02  7.86507875e-02 -5.05670719e-02 -1.27010226e-01\n",
      "   1.38315856e-01 -2.78410781e-02  1.10133968e-01 -1.02316458e-02\n",
      "  -6.07307553e-02 -8.44293088e-02  3.25334072e-02 -6.24323171e-03\n",
      "  -1.56278014e-01  6.55825902e-03  6.16957620e-02 -8.41767993e-03\n",
      "   3.84670720e-02  8.21413100e-03 -2.81494558e-02  3.77381071e-02\n",
      "  -1.25244735e-02  1.90429892e-02  5.76830283e-02 -9.08866711e-03\n",
      "   1.28302788e-02 -4.50678691e-02  1.97329987e-02 -1.42614385e-02\n",
      "   6.60151988e-03 -6.54830337e-02 -2.69162674e-02 -6.53251037e-02\n",
      "  -5.48342476e-03  2.35665031e-02  5.51509149e-02  3.20881195e-02\n",
      "  -7.90240914e-02 -5.98072894e-02 -4.21358980e-02 -9.21949744e-02\n",
      "  -1.44300424e-03 -5.54312393e-02  2.04594228e-02 -4.71747853e-03\n",
      "  -3.50922607e-02  4.47409935e-02 -5.24178520e-02  7.33324811e-02\n",
      "   7.47437254e-02  4.19596024e-02 -6.78761378e-02 -4.19859737e-02\n",
      "  -3.81265096e-02  4.87817600e-02  7.88701400e-02  3.37487161e-02\n",
      "   6.74102008e-02  7.91846812e-02 -6.28889874e-02 -1.84551794e-02\n",
      "   1.28935128e-02  8.20400135e-04  6.85267970e-02  5.19753173e-02\n",
      "   1.21710438e-03 -7.99880028e-02 -5.17499400e-03  1.20760076e-01\n",
      "   2.26351265e-02  1.16534524e-01 -2.67753354e-03 -2.68581626e-03\n",
      "  -6.99982122e-02  6.69874400e-02  9.37521681e-02  5.33283912e-02\n",
      "   7.82917738e-02  4.69918922e-02  2.31190342e-02 -3.59591930e-08\n",
      "   5.04610837e-02  7.79565722e-02 -1.24346735e-02  3.12863253e-02\n",
      "  -1.01237349e-01  8.42409506e-02 -6.58626780e-02 -9.73898321e-02\n",
      "   4.38325666e-02 -6.93635643e-02  8.72681197e-03 -3.43762226e-02\n",
      "   1.83472484e-02 -2.87162140e-02 -2.30972823e-02 -2.80645257e-03\n",
      "  -4.99833040e-02  3.47934663e-02 -2.80900002e-02  4.16632593e-02\n",
      "  -2.61409860e-02 -1.15456618e-02 -2.14970112e-03  2.56943312e-02\n",
      "   1.83822084e-02 -2.13499833e-02 -8.74082595e-02  6.85897470e-03\n",
      "   2.50339843e-02  8.64126235e-02 -1.61940865e-02 -2.16290578e-02\n",
      "   6.43684119e-02 -1.60297323e-02  4.09772322e-02  1.04055703e-01\n",
      "   6.24652728e-02 -5.34147359e-02  1.15940180e-02  6.97215497e-02\n",
      "   4.28126492e-02 -9.03428122e-02  3.43138073e-03 -2.45585646e-02\n",
      "  -2.61904709e-02 -4.35534045e-02 -1.45997794e-03  5.88724623e-03\n",
      "  -3.47808488e-02  2.96108220e-02  2.47958992e-02  2.95146205e-03\n",
      "   7.01350439e-03 -2.16638409e-02 -4.79296483e-02  3.23040411e-02\n",
      "  -5.47493026e-02 -3.14374007e-02  3.37605998e-02  6.46315292e-02\n",
      "  -4.13465826e-03 -6.61627054e-02 -1.55792804e-02  1.25641882e-01]]\n"
     ]
    }
   ],
   "source": [
    "model_name = SentenceTransformer(\"all-MiniLM-L6-v2\")\n",
    "print(sys.path)\n",
    "# encoder = SentenceTransformer(model_name)\n",
    "\n",
    "sentence = [\n",
    "    'EXCEL IN TRAINING AND MATCHES IN THESE REINFORCED GOALIE GLOVES. Stop shots in their tracks in adidas goalkeeper gloves designed to dominate. These Predator Match soccer gloves fit securely with a half-wrap wrist strap. Soft Grip Pro latex in the palm offers cushioning, grip and durability in all weathers. Fingersave spines reinforce the fingers, adding security to every catch and throw.'\n",
    "]\n",
    "embedding = model_name.encode(sentence)\n",
    "print(embedding)"
   ]
  },
  {
   "cell_type": "code",
   "execution_count": 124,
   "metadata": {},
   "outputs": [
    {
     "data": {
      "text/html": [
       "<div>\n",
       "<style scoped>\n",
       "    .dataframe tbody tr th:only-of-type {\n",
       "        vertical-align: middle;\n",
       "    }\n",
       "\n",
       "    .dataframe tbody tr th {\n",
       "        vertical-align: top;\n",
       "    }\n",
       "\n",
       "    .dataframe thead th {\n",
       "        text-align: right;\n",
       "    }\n",
       "</style>\n",
       "<table border=\"1\" class=\"dataframe\">\n",
       "  <thead>\n",
       "    <tr style=\"text-align: right;\">\n",
       "      <th></th>\n",
       "      <th>Name</th>\n",
       "      <th>Price</th>\n",
       "      <th>Description</th>\n",
       "      <th>Type</th>\n",
       "      <th>Brand</th>\n",
       "      <th>Sentence_embedding</th>\n",
       "    </tr>\n",
       "  </thead>\n",
       "  <tbody>\n",
       "    <tr>\n",
       "      <th>36</th>\n",
       "      <td>Nike Superfly 9 Elite Mercurial Dream Speed</td>\n",
       "      <td>S$425</td>\n",
       "      <td>Cristiano Ronaldo wouldn't be the competitor h...</td>\n",
       "      <td>Shoes</td>\n",
       "      <td>nike</td>\n",
       "      <td>[-0.027500363, 0.015716286, -0.0265591, -0.092...</td>\n",
       "    </tr>\n",
       "    <tr>\n",
       "      <th>37</th>\n",
       "      <td>Nike Vapor 15 Elite Mercurial Dream Speed</td>\n",
       "      <td>S$369</td>\n",
       "      <td>Cristiano Ronaldo wouldn't be the competitor h...</td>\n",
       "      <td>Shoes</td>\n",
       "      <td>nike</td>\n",
       "      <td>[-0.0153679345, 0.04894399, -0.007580768, -0.0...</td>\n",
       "    </tr>\n",
       "    <tr>\n",
       "      <th>38</th>\n",
       "      <td>Nike Vapor 15 Academy Mercurial Dream Speed</td>\n",
       "      <td>S$149</td>\n",
       "      <td>Cristiano Ronaldo wouldn't be the competitor h...</td>\n",
       "      <td>Shoes</td>\n",
       "      <td>nike</td>\n",
       "      <td>[-0.02133795, 0.04289549, -0.00526723, -0.1025...</td>\n",
       "    </tr>\n",
       "    <tr>\n",
       "      <th>39</th>\n",
       "      <td>Nike Superfly 9 Academy Mercurial Dream Speed</td>\n",
       "      <td>S$169</td>\n",
       "      <td>Cristiano Ronaldo wouldn't be the competitor h...</td>\n",
       "      <td>Shoes</td>\n",
       "      <td>nike</td>\n",
       "      <td>[-0.03501332, 0.010300437, -0.028078694, -0.09...</td>\n",
       "    </tr>\n",
       "    <tr>\n",
       "      <th>40</th>\n",
       "      <td>Nike Vapor 15 Academy Mercurial Dream Speed</td>\n",
       "      <td>S$149</td>\n",
       "      <td>Cristiano Ronaldo wouldn't be the competitor h...</td>\n",
       "      <td>Shoes</td>\n",
       "      <td>nike</td>\n",
       "      <td>[-0.021292044, 0.043989703, -0.005406561, -0.1...</td>\n",
       "    </tr>\n",
       "  </tbody>\n",
       "</table>\n",
       "</div>"
      ],
      "text/plain": [
       "                                             Name  Price  \\\n",
       "36    Nike Superfly 9 Elite Mercurial Dream Speed  S$425   \n",
       "37      Nike Vapor 15 Elite Mercurial Dream Speed  S$369   \n",
       "38    Nike Vapor 15 Academy Mercurial Dream Speed  S$149   \n",
       "39  Nike Superfly 9 Academy Mercurial Dream Speed  S$169   \n",
       "40    Nike Vapor 15 Academy Mercurial Dream Speed  S$149   \n",
       "\n",
       "                                          Description   Type Brand  \\\n",
       "36  Cristiano Ronaldo wouldn't be the competitor h...  Shoes  nike   \n",
       "37  Cristiano Ronaldo wouldn't be the competitor h...  Shoes  nike   \n",
       "38  Cristiano Ronaldo wouldn't be the competitor h...  Shoes  nike   \n",
       "39  Cristiano Ronaldo wouldn't be the competitor h...  Shoes  nike   \n",
       "40  Cristiano Ronaldo wouldn't be the competitor h...  Shoes  nike   \n",
       "\n",
       "                                   Sentence_embedding  \n",
       "36  [-0.027500363, 0.015716286, -0.0265591, -0.092...  \n",
       "37  [-0.0153679345, 0.04894399, -0.007580768, -0.0...  \n",
       "38  [-0.02133795, 0.04289549, -0.00526723, -0.1025...  \n",
       "39  [-0.03501332, 0.010300437, -0.028078694, -0.09...  \n",
       "40  [-0.021292044, 0.043989703, -0.005406561, -0.1...  "
      ]
     },
     "execution_count": 124,
     "metadata": {},
     "output_type": "execute_result"
    }
   ],
   "source": [
    "# if 'Sentence_embedding' in df.columns:\n",
    "#     df['Sentence_embedding'].drop(axis=1)\n",
    "df['sentence_embedding'] = df['Description'].apply(model_name.encode)\n",
    "df.rename(columns={'sentence_embedding': 'Sentence_embedding'}, inplace=True)\n",
    "df.tail()"
   ]
  },
  {
   "cell_type": "code",
   "execution_count": 49,
   "metadata": {},
   "outputs": [],
   "source": [
    "df.drop(columns=['Sentence_embedding'], inplace=True)"
   ]
  },
  {
   "cell_type": "code",
   "execution_count": 125,
   "metadata": {},
   "outputs": [],
   "source": [
    "df['Sentence_embedding'] = df['Sentence_embedding'].apply(lambda x: x.reshape(1, -1))"
   ]
  },
  {
   "cell_type": "code",
   "execution_count": 140,
   "metadata": {},
   "outputs": [
    {
     "name": "stdout",
     "output_type": "stream",
     "text": [
      "Ball   27   nike\n",
      "Jersey   35   nike\n",
      "Shoes   36   nike\n",
      "Shoes   37   nike\n",
      "Shoes   38   nike\n",
      "Shoes   39   nike\n"
     ]
    }
   ],
   "source": [
    "from sklearn.metrics.pairwise import cosine_similarity\n",
    "for index, i in enumerate(df['Sentence_embedding']):\n",
    "    if index == 0:\n",
    "        continue\n",
    "    if cosine_similarity(i, df['Sentence_embedding'][40])[0][0] >= 0.5:\n",
    "        print(df['Type'][index], ' ', index, ' ', df['Brand'][index])"
   ]
  },
  {
   "cell_type": "code",
   "execution_count": 127,
   "metadata": {},
   "outputs": [
    {
     "data": {
      "text/plain": [
       "'GRIPPY CLEATS FOR ACCURACY IN FRONT OF GOAL, MADE IN PART WITH RECYCLED MATERIALS.\\r\\nPredator is crafted for one thing: goals. Packed with the latest goal-scoring technology, get ready to send your swerve, power, and control off the charts.'"
      ]
     },
     "execution_count": 127,
     "metadata": {},
     "output_type": "execute_result"
    }
   ],
   "source": [
    "df.iloc[6]['Description']"
   ]
  },
  {
   "cell_type": "code",
   "execution_count": 128,
   "metadata": {},
   "outputs": [
    {
     "data": {
      "text/plain": [
       "\"CUSHIONED SOCCER GLOVES FOR CONFIDENT PERFORMANCES BETWEEN THE STICKS.\\r\\nStop shots in their tracks in juniors' adidas goalkeeper gloves designed to dominate. Made for matches, these Predator Pro gloves have an elastic wrist strap for a customizable fit. On their flexible Mechano backhand, silicone elements help with punching precision. In the palm, URG 2.0 latex grips and cushions for confident keeping until the final whistle.\""
      ]
     },
     "execution_count": 128,
     "metadata": {},
     "output_type": "execute_result"
    }
   ],
   "source": [
    "df.iloc[1]['Description']"
   ]
  }
 ],
 "metadata": {
  "kernelspec": {
   "display_name": "Ch-a-bi-t-t-n-g-",
   "language": "python",
   "name": "python3"
  },
  "language_info": {
   "codemirror_mode": {
    "name": "ipython",
    "version": 3
   },
   "file_extension": ".py",
   "mimetype": "text/x-python",
   "name": "python",
   "nbconvert_exporter": "python",
   "pygments_lexer": "ipython3",
   "version": "3.12.3"
  }
 },
 "nbformat": 4,
 "nbformat_minor": 2
}
